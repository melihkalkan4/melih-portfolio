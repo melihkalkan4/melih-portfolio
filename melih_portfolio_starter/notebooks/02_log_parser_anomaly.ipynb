{
 "cells": [
  {
   "cell_type": "markdown",
   "id": "a84c14dc",
   "metadata": {},
   "source": [
    "# Log/Crash Parsing & Simple Anomaly Detection\n",
    "\n",
    "Find crash spikes using a rolling z‑score."
   ]
  },
  {
   "cell_type": "code",
   "execution_count": null,
   "id": "d9dbc035",
   "metadata": {},
   "outputs": [],
   "source": [
    "import pandas as pd, numpy as np\n",
    "from datetime import datetime\n",
    "import matplotlib.pyplot as plt\n",
    "\n",
    "df = pd.read_csv('../data/synthetic_telemetry.csv', parse_dates=['ts'])\n",
    "cr = df[df['event']=='crash'].copy()\n",
    "if cr.empty:\n",
    "    print(\"No crash events in this synthetic dataset.\")\n",
    "else:\n",
    "    cr['date'] = cr['ts'].dt.date\n",
    "    daily = cr.groupby('date').size().rename('crash_count').reset_index()\n",
    "    daily['rolling_mean'] = daily['crash_count'].rolling(7, min_periods=3).mean()\n",
    "    daily['rolling_std'] = daily['crash_count'].rolling(7, min_periods=3).std()\n",
    "    daily['z'] = (daily['crash_count'] - daily['rolling_mean'])/daily['rolling_std']\n",
    "\n",
    "    plt.figure()\n",
    "    plt.plot(daily['date'], daily['crash_count'])\n",
    "    plt.title('Daily Crash Count')\n",
    "    plt.xlabel('Date'); plt.ylabel('Crashes')\n",
    "    plt.xticks(rotation=45)\n",
    "    plt.tight_layout()\n",
    "    plt.show()\n",
    "\n",
    "    # Flag anomalies where z > 2\n",
    "    anomalies = daily[daily['z']>2]\n",
    "    print(\"Anomalies (z>2):\")\n",
    "    print(anomalies[['date','crash_count','z']])"
   ]
  }
 ],
 "metadata": {},
 "nbformat": 4,
 "nbformat_minor": 5
}
