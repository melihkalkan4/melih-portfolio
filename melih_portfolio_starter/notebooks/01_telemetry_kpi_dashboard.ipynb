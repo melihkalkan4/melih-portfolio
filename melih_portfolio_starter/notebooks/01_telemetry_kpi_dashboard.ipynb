{
 "cells": [
  {
   "cell_type": "markdown",
   "id": "c32d4b11",
   "metadata": {},
   "source": [
    "# Telemetry → KPI & Cohort Dashboard\n",
    "\n",
    "This notebook loads `data/synthetic_telemetry.csv` and computes basic **funnel**, **retention**, and **cohort** views."
   ]
  },
  {
   "cell_type": "code",
   "execution_count": null,
   "id": "9913b84f",
   "metadata": {},
   "outputs": [],
   "source": [
    "import pandas as pd, numpy as np\n",
    "from datetime import datetime\n",
    "import matplotlib.pyplot as plt\n",
    "\n",
    "df = pd.read_csv('../data/synthetic_telemetry.csv', parse_dates=['ts'])\n",
    "df.head()[:5]"
   ]
  },
  {
   "cell_type": "markdown",
   "id": "aff6be7c",
   "metadata": {},
   "source": [
    "## Funnel: install → tutorial_complete → level_1_complete"
   ]
  },
  {
   "cell_type": "code",
   "execution_count": null,
   "id": "03f3f23b",
   "metadata": {},
   "outputs": [],
   "source": [
    "# Install base\n",
    "installs = df[df['event']=='install']['user_id'].unique()\n",
    "tutorial = df[df['event']=='tutorial_complete']['user_id'].unique()\n",
    "lvl1 = df[(df['event']=='level_complete') & (df['level']==1)]['user_id'].unique()\n",
    "\n",
    "steps = ['install','tutorial_complete','level1_complete']\n",
    "vals = [len(installs), len(set(tutorial)&set(installs)), len(set(lvl1)&set(installs))]\n",
    "\n",
    "plt.figure()\n",
    "plt.bar(steps, vals)\n",
    "plt.title('Funnel (Users)')\n",
    "plt.xlabel('Step'); plt.ylabel('Users')\n",
    "plt.show()"
   ]
  },
  {
   "cell_type": "markdown",
   "id": "c7c933f1",
   "metadata": {},
   "source": [
    "## Day-1 retention (rough cut)\n",
    "We consider a user retained if they have any event at least 1 day after install."
   ]
  },
  {
   "cell_type": "code",
   "execution_count": null,
   "id": "fe16e2ff",
   "metadata": {},
   "outputs": [],
   "source": [
    "inst_df = df[df['event']=='install'][['user_id','ts']].rename(columns={'ts':'install_ts'})\n",
    "merged = df.merge(inst_df, on='user_id', how='left')\n",
    "merged['days_after'] = (merged['ts'] - merged['install_ts']).dt.days\n",
    "retained = merged.groupby('user_id')['days_after'].max().ge(1).sum()\n",
    "base = inst_df['user_id'].nunique()\n",
    "rate = retained/base if base else 0\n",
    "print(f'D1 Retention: {rate:.2%} ({retained}/{base})')"
   ]
  },
  {
   "cell_type": "markdown",
   "id": "42128f07",
   "metadata": {},
   "source": [
    "## Weekly cohorts by install week"
   ]
  },
  {
   "cell_type": "code",
   "execution_count": null,
   "id": "a8d7a48c",
   "metadata": {},
   "outputs": [],
   "source": [
    "inst = inst_df.copy()\n",
    "inst['install_week'] = inst['install_ts'].dt.to_period('W').astype(str)\n",
    "cohort_sizes = inst.groupby('install_week')['user_id'].nunique()\n",
    "\n",
    "# engagement any event after install in next week (simplified engagement signal)\n",
    "merged['week'] = merged['ts'].dt.to_period('W').astype(str)\n",
    "engagement = merged[merged['days_after']>=0].groupby(['user_id','week']).size().reset_index(name='events')\n",
    "eng_users = engagement.merge(inst[['user_id','install_week']], on='user_id', how='left')\n",
    "cohort_ret = eng_users.groupby(['install_week','week'])['user_id'].nunique().reset_index()\n",
    "pivot = cohort_ret.pivot(index='install_week', columns='week', values='user_id').fillna(0)\n",
    "\n",
    "# Normalize by cohort size\n",
    "for c in pivot.index:\n",
    "    if cohort_sizes.get(c,0)>0:\n",
    "        pivot.loc[c] = (pivot.loc[c] / cohort_sizes.loc[c]).round(3)\n",
    "\n",
    "pivot"
   ]
  }
 ],
 "metadata": {},
 "nbformat": 4,
 "nbformat_minor": 5
}
